{
  "nbformat": 4,
  "nbformat_minor": 0,
  "metadata": {
    "colab": {
      "provenance": []
    },
    "kernelspec": {
      "name": "python3",
      "display_name": "Python 3"
    },
    "language_info": {
      "name": "python"
    }
  },
  "cells": [
    {
      "cell_type": "code",
      "execution_count": 1,
      "metadata": {
        "id": "gMPuzj7gptXj"
      },
      "outputs": [],
      "source": [
        "import warnings\n",
        "warnings.filterwarnings('ignore')\n",
        "\n",
        "# data imports\n",
        "import pandas as pd\n",
        "import numpy as np\n",
        "from plotnine import *\n",
        "\n",
        "# modeling imports\n",
        "from sklearn.linear_model import LinearRegression # Linear Regression Model\n",
        "from sklearn.preprocessing import StandardScaler #Z-score variables\n",
        "from sklearn.metrics import mean_squared_error, r2_score, mean_absolute_percentage_error, mean_absolute_error #model evaluation\n",
        "\n",
        "\n",
        "# pipeline imports\n",
        "from sklearn.pipeline import make_pipeline, Pipeline\n",
        "from sklearn.compose import make_column_transformer\n",
        "\n",
        "%matplotlib inline"
      ]
    },
    {
      "cell_type": "markdown",
      "source": [
        "# Sklearn Linear Regression\n",
        "\n",
        "Our goal is to build a linear regression model that predicts the Amazon Price of  books with the available predictors"
      ],
      "metadata": {
        "id": "sc-Tl5ASq8AB"
      }
    },
    {
      "cell_type": "code",
      "source": [
        "# load amazon books data\n",
        "\n",
        "amazon = pd.read_csv(\"https://raw.githubusercontent.com/katherinehansen2/CPSC392Hansen/main/data/amazon-books.txt\", sep=\"\\t\")\n",
        "amazon.head()"
      ],
      "metadata": {
        "id": "t0zXVtqhpxWA"
      },
      "execution_count": 2,
      "outputs": []
    },
    {
      "cell_type": "code",
      "source": [
        "# check for null values\n",
        "\n"
      ],
      "metadata": {
        "id": "WmupOFoAqq9-"
      },
      "execution_count": null,
      "outputs": []
    },
    {
      "cell_type": "code",
      "source": [
        "# drop missing values\n",
        "\n"
      ],
      "metadata": {
        "id": "ZB9akdSgqvRj"
      },
      "execution_count": null,
      "outputs": []
    },
    {
      "cell_type": "code",
      "source": [
        "# Separate X and Y values\n",
        "\n",
        "# list of predictors\n",
        "predictors = []"
      ],
      "metadata": {
        "id": "rKVFW_vbq1LE"
      },
      "execution_count": 3,
      "outputs": []
    },
    {
      "cell_type": "code",
      "source": [
        "# z-score\n",
        "\n"
      ],
      "metadata": {
        "id": "ykX5Xc7drO8m"
      },
      "execution_count": 4,
      "outputs": []
    },
    {
      "cell_type": "markdown",
      "source": [
        "## LinearRegression() & .fit()"
      ],
      "metadata": {
        "id": "PXm96Subr-ER"
      }
    },
    {
      "cell_type": "code",
      "source": [
        "# define model\n",
        "\n",
        "\n",
        "\n",
        "# fit the model\n",
        "\n"
      ],
      "metadata": {
        "id": "ou2pfCA-rR-A"
      },
      "execution_count": 6,
      "outputs": []
    },
    {
      "cell_type": "markdown",
      "source": [
        "## .predict()"
      ],
      "metadata": {
        "id": "7BajovzGsDPR"
      }
    },
    {
      "cell_type": "code",
      "source": [
        "y_pred ="
      ],
      "metadata": {
        "id": "Al0Ghuwjr89l"
      },
      "execution_count": null,
      "outputs": []
    },
    {
      "cell_type": "code",
      "source": [
        "print(\"MSE : \", mean_squared_error(y,y_pred))\n",
        "print(\"MAE : \", mean_absolute_error(y,y_pred))\n",
        "print(\"R2  : \", r2_score(y,y_pred))"
      ],
      "metadata": {
        "id": "RnCjOyRbsJ8B"
      },
      "execution_count": 8,
      "outputs": []
    },
    {
      "cell_type": "markdown",
      "source": [
        "## Check the model coefficients"
      ],
      "metadata": {
        "id": "kbLBu3mZsvou"
      }
    },
    {
      "cell_type": "code",
      "source": [
        "intercept = #\n",
        "coefficients = #\n",
        "\n",
        "# create DF of\n",
        "params = pd.DataFrame({\n",
        "    'Feature': ['Intercept'] + list(X_scaled.columns),\n",
        "    'Coefficient': [intercept] + list(coefficients)\n",
        "})\n",
        "params"
      ],
      "metadata": {
        "id": "nl5gXsVosxb-"
      },
      "execution_count": 9,
      "outputs": []
    }
  ]
}
