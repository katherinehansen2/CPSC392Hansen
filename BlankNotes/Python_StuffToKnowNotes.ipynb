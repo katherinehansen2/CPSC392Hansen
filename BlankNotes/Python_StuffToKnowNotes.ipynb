{
  "nbformat": 4,
  "nbformat_minor": 0,
  "metadata": {
    "colab": {
      "provenance": []
    },
    "kernelspec": {
      "name": "python3",
      "display_name": "Python 3"
    },
    "language_info": {
      "name": "python"
    }
  },
  "cells": [
    {
      "cell_type": "markdown",
      "source": [
        "# All the stuff you need to know - Python edition"
      ],
      "metadata": {
        "id": "pRLjcx84T-ii"
      }
    },
    {
      "cell_type": "markdown",
      "source": [
        "## Getting familiar with Colab\n",
        "This is a Google Colab notebook - an online, shareable Jupyter notebook where you can write + run Python code and write plain text.\n",
        "\n",
        "Colab notebooks can be shared & worked on by multiple people BUT\n",
        "* Only one person can save changes at a time\n",
        "* Other users must refresh their page to get new updates"
      ],
      "metadata": {
        "id": "0jBinJWVUEN-"
      }
    },
    {
      "cell_type": "code",
      "execution_count": null,
      "metadata": {
        "id": "kvMU2QGBT99O"
      },
      "outputs": [],
      "source": [
        "# write a hello world program\n",
        "\n"
      ]
    },
    {
      "cell_type": "markdown",
      "source": [
        "You can run a cell by pressing the play button, or by using ctrl+enter (Windows) or cmd+return (Mac)"
      ],
      "metadata": {
        "id": "GD4F5lMd8Vv5"
      }
    },
    {
      "cell_type": "code",
      "source": [
        "# goodnight world\n",
        "\n",
        "print(\"Goodnight, world.\")"
      ],
      "metadata": {
        "colab": {
          "base_uri": "https://localhost:8080/"
        },
        "id": "b20EQ7hfVBmx",
        "outputId": "0350a2a5-31f0-4b13-d7f0-3b3ead49f943"
      },
      "execution_count": 7,
      "outputs": [
        {
          "output_type": "stream",
          "name": "stdout",
          "text": [
            "Goodnight, world.\n"
          ]
        }
      ]
    },
    {
      "cell_type": "markdown",
      "source": [
        "Notice that you can see the output from both snippets at the same time.\n",
        "\n",
        "In colab, if the last line of code in your code snippet is an object, it will automatically print out the value."
      ],
      "metadata": {
        "id": "dcdZRFEeWSL-"
      }
    },
    {
      "cell_type": "code",
      "source": [
        "x = 25\n",
        "x"
      ],
      "metadata": {
        "colab": {
          "base_uri": "https://localhost:8080/"
        },
        "id": "TTLjFPe0W4He",
        "outputId": "fd018bf7-8798-4f65-94df-f641f7bf3981"
      },
      "execution_count": 1,
      "outputs": [
        {
          "output_type": "execute_result",
          "data": {
            "text/plain": [
              "10"
            ]
          },
          "metadata": {},
          "execution_count": 1
        }
      ]
    },
    {
      "cell_type": "markdown",
      "source": [
        "## Pandas"
      ],
      "metadata": {
        "id": "zaTjWmVTXQ-f"
      }
    },
    {
      "cell_type": "code",
      "source": [
        "import numpy as np\n",
        "import pandas as pd"
      ],
      "metadata": {
        "id": "DveEZ6CrXUfE"
      },
      "execution_count": 1,
      "outputs": []
    },
    {
      "cell_type": "markdown",
      "source": [
        "### Creating a DataFrame"
      ],
      "metadata": {
        "id": "t0_G7o9MXj8V"
      }
    },
    {
      "cell_type": "code",
      "source": [
        "names = [\"Alice\", \"Bob\", \"Charlotte\"]\n",
        "ages = [21, 21, 18]\n",
        "majors = [\"Computer Science\", \"Psychology\", \"Business\"]\n",
        "\n",
        "\n",
        "# Method 1 - with dictionary\n"
      ],
      "metadata": {
        "id": "abg_DZMqXlzR"
      },
      "execution_count": 4,
      "outputs": []
    },
    {
      "cell_type": "code",
      "source": [
        "# Method 2 - with lists\n",
        "\n",
        "info = [[\"Alice\", 21, \"Computer Science\"], [\"Bob\", 21, \"Psychology\"], [\"Charlotte\", 18, \"Business\"]]\n"
      ],
      "metadata": {
        "id": "Tt4fkQ10YSWQ"
      },
      "execution_count": 8,
      "outputs": []
    },
    {
      "cell_type": "code",
      "source": [
        "# Method 3 - upload from your computer (can't do on colab)\n",
        "path = \"/Users/katherinehansen/Chapman/Fall2024/CPSC392/GitHubRepo/CPSC392Hansen/data/penguins.csv\"\n",
        "\n",
        "df3 = pd.read_csv(path)\n",
        "df3"
      ],
      "metadata": {
        "id": "tMNjmnJJYwlW"
      },
      "execution_count": null,
      "outputs": []
    },
    {
      "cell_type": "markdown",
      "source": [
        "On GitHub, navigate to the csv you'd like to read, click \"raw\", and then copy the URL"
      ],
      "metadata": {
        "id": "TMMOB7347Y6G"
      }
    },
    {
      "cell_type": "code",
      "source": [
        "# Method 4 - from a URL\n",
        "urlDF = \"https://raw.githubusercontent.com/katherinehansen2/CPSC392Hansen/main/data/penguins.csv\"\n",
        "\n",
        "df4 =\n",
        "\n",
        "df4.head()"
      ],
      "metadata": {
        "id": "IqngM61wZEAY"
      },
      "execution_count": 1,
      "outputs": []
    },
    {
      "cell_type": "code",
      "source": [
        "# Method 5 - upload to Google Colab\n",
        "\n"
      ],
      "metadata": {
        "id": "NW8_T0WTZi6K"
      },
      "execution_count": null,
      "outputs": []
    },
    {
      "cell_type": "markdown",
      "source": [
        "### Exploring data"
      ],
      "metadata": {
        "id": "JmfQ6Ur0AG72"
      }
    },
    {
      "cell_type": "code",
      "source": [
        "# How many rows and columns does the DF have?\n",
        "\n"
      ],
      "metadata": {
        "id": "JREK-gTJ-Icn"
      },
      "execution_count": null,
      "outputs": []
    },
    {
      "cell_type": "code",
      "source": [
        "# Column names in DF\n",
        "\n"
      ],
      "metadata": {
        "id": "Z2_FAuwA9j9F"
      },
      "execution_count": null,
      "outputs": []
    },
    {
      "cell_type": "code",
      "source": [
        "# What do your columns look like? .info(), .describe()\n",
        "\n"
      ],
      "metadata": {
        "id": "rJ459KkS9pjt"
      },
      "execution_count": null,
      "outputs": []
    },
    {
      "cell_type": "code",
      "source": [
        "# .head()\n",
        "\n"
      ],
      "metadata": {
        "id": "RX9_d26D-kzM"
      },
      "execution_count": null,
      "outputs": []
    },
    {
      "cell_type": "markdown",
      "source": [
        "### groupby()"
      ],
      "metadata": {
        "id": "4pjWmygo-tAx"
      }
    },
    {
      "cell_type": "code",
      "source": [
        "# use groupby() to find the avg body mass (body_mass_g) and avg bill length (bill_length_mm) by species\n",
        "\n"
      ],
      "metadata": {
        "id": "Eg-rrsYk-muy"
      },
      "execution_count": 13,
      "outputs": []
    },
    {
      "cell_type": "markdown",
      "source": [
        "### index"
      ],
      "metadata": {
        "id": "-1U1M4og_-Fi"
      }
    },
    {
      "cell_type": "code",
      "source": [
        "# index - row numbers starting at 0\n"
      ],
      "metadata": {
        "id": "nbUHctwV__At"
      },
      "execution_count": null,
      "outputs": []
    },
    {
      "cell_type": "code",
      "source": [
        "# looping through columns of df\n",
        "\n",
        "\n",
        "\n",
        "# loop through indices of df\n",
        "\n",
        "\n",
        "\n",
        "# loop through data at a given index\n",
        "\n"
      ],
      "metadata": {
        "id": "nVX2VPEPAJTg"
      },
      "execution_count": 16,
      "outputs": []
    },
    {
      "cell_type": "code",
      "source": [
        "# iterrows\n",
        "\n",
        "\n",
        "for i, r in df4.iterrows():\n",
        "  print(i, r)\n",
        ""
      ],
      "metadata": {
        "id": "r_aK7SO4AM3c"
      },
      "execution_count": 18,
      "outputs": []
    },
    {
      "cell_type": "markdown",
      "source": [
        "### Dropping missing data"
      ],
      "metadata": {
        "id": "-HBPdNeDBL0X"
      }
    },
    {
      "cell_type": "code",
      "source": [
        "# Check for missing values\n",
        "\n"
      ],
      "metadata": {
        "id": "AaLsrShPBNZP"
      },
      "execution_count": null,
      "outputs": []
    },
    {
      "cell_type": "code",
      "source": [
        "# Remove rows with missing values\n",
        "\n",
        "\n",
        "\n",
        "# inplace\n",
        "\n"
      ],
      "metadata": {
        "id": "-RHT_mfcBghv"
      },
      "execution_count": null,
      "outputs": []
    },
    {
      "cell_type": "code",
      "source": [
        "# reset indices after removing missing values - reset_index()\n"
      ],
      "metadata": {
        "id": "Ouz3QrkvB2Bd"
      },
      "execution_count": null,
      "outputs": []
    },
    {
      "cell_type": "markdown",
      "source": [
        "### Dummy Variables"
      ],
      "metadata": {
        "id": "N-2pvAScCEUa"
      }
    },
    {
      "cell_type": "code",
      "source": [
        "# generate data\n",
        "\n",
        "col1 = np.random.choice([\"A\", \"B\", \"C\"], 100)\n",
        "col2 = np.random.uniform(0, 100, 100).round(0)\n",
        "\n",
        "df = pd.DataFrame({\"group\":col1, \"score\": col2})\n",
        "\n",
        "df.head()"
      ],
      "metadata": {
        "id": "DkVjRdhxCFwR"
      },
      "execution_count": 3,
      "outputs": []
    },
    {
      "cell_type": "code",
      "source": [
        "# pd.get_dummies()\n",
        "\n"
      ],
      "metadata": {
        "id": "2Tg4-VGvC6Ym"
      },
      "execution_count": null,
      "outputs": []
    },
    {
      "cell_type": "markdown",
      "source": [
        "### Subsetting data\n"
      ],
      "metadata": {
        "id": "1ep5nD9rDjUQ"
      }
    },
    {
      "cell_type": "code",
      "source": [
        "# by column name\n",
        "\n"
      ],
      "metadata": {
        "id": "ZQtnEFfoDnyp"
      },
      "execution_count": null,
      "outputs": []
    },
    {
      "cell_type": "code",
      "source": [
        "# find mean bill length of all penguins\n",
        "\n"
      ],
      "metadata": {
        "id": "PaxCtzPsD3ej"
      },
      "execution_count": null,
      "outputs": []
    },
    {
      "cell_type": "code",
      "source": [
        "# rows, by index (iloc), as a series\n",
        "\n"
      ],
      "metadata": {
        "id": "iN20uOjZD1f4"
      },
      "execution_count": null,
      "outputs": []
    },
    {
      "cell_type": "code",
      "source": [
        "# rows, by index (iloc), as a df\n",
        "\n"
      ],
      "metadata": {
        "id": "08OIxPGLEFy0"
      },
      "execution_count": null,
      "outputs": []
    },
    {
      "cell_type": "code",
      "source": [
        "# grab range of rows by indices\n",
        "\n"
      ],
      "metadata": {
        "id": "2tteV0c9EVKb"
      },
      "execution_count": null,
      "outputs": []
    },
    {
      "cell_type": "code",
      "source": [
        "# iloc grabbing specific rows AND columns\n",
        "\n"
      ],
      "metadata": {
        "id": "TvdBkkZOEZqv"
      },
      "execution_count": null,
      "outputs": []
    },
    {
      "cell_type": "code",
      "source": [
        "# by condition\n",
        "\n",
        "# Find all of the Adelie penguins\n",
        "\n"
      ],
      "metadata": {
        "id": "7SEyZpYPElx3"
      },
      "execution_count": null,
      "outputs": []
    },
    {
      "cell_type": "code",
      "source": [
        "# bill lengths > 39\n",
        "\n"
      ],
      "metadata": {
        "id": "zyefAdE8Et3B"
      },
      "execution_count": 4,
      "outputs": []
    },
    {
      "cell_type": "code",
      "source": [
        "# bill lengths > 39 AND bill depth < 18\n",
        "\n",
        "\n",
        "\n"
      ],
      "metadata": {
        "id": "VBMAx8L9Evyd"
      },
      "execution_count": 5,
      "outputs": []
    },
    {
      "cell_type": "code",
      "source": [
        "# .loc[] with strings\n",
        "\n"
      ],
      "metadata": {
        "id": "KW1FgXxDFk5S"
      },
      "execution_count": null,
      "outputs": []
    },
    {
      "cell_type": "code",
      "source": [
        "# by column type - df.select_dtypes(include = )\n",
        "\n",
        "num = [\"int16\", \"int32\", \"int64\", \"float16\", \"float32\", \"float64\"]\n",
        "\n",
        "\n"
      ],
      "metadata": {
        "id": "AU2tQoS7F0mc"
      },
      "execution_count": 34,
      "outputs": []
    },
    {
      "cell_type": "code",
      "source": [
        "# grab columns by name\n",
        "\n"
      ],
      "metadata": {
        "id": "FmInXipTGP9w"
      },
      "execution_count": null,
      "outputs": []
    },
    {
      "cell_type": "markdown",
      "source": [
        "#### Add a column"
      ],
      "metadata": {
        "id": "TkrFW7RjGX2N"
      }
    },
    {
      "cell_type": "code",
      "source": [
        "# bill ratio\n",
        "\n",
        "df4[\"bill_ratio\"] ="
      ],
      "metadata": {
        "id": "UPMWvWjgGZfU"
      },
      "execution_count": null,
      "outputs": []
    },
    {
      "cell_type": "markdown",
      "source": [
        "## Numpy"
      ],
      "metadata": {
        "id": "eGEeVoZlGg8t"
      }
    },
    {
      "cell_type": "code",
      "source": [
        "# np.array vs list\n",
        "\n",
        "x_array = np.array([1, 2, 3, 4, 5, 6])\n",
        "x_list = [1, 2, 3, 4, 5, 6]\n"
      ],
      "metadata": {
        "id": "XvnKHXAsGnqZ"
      },
      "execution_count": 35,
      "outputs": []
    },
    {
      "cell_type": "code",
      "source": [
        "# indexing - same\n",
        "\n"
      ],
      "metadata": {
        "id": "LUZXPHhTHDE4"
      },
      "execution_count": null,
      "outputs": []
    },
    {
      "cell_type": "code",
      "source": [
        "# multiplication\n",
        "\n"
      ],
      "metadata": {
        "id": "XygQ73DeHHzb"
      },
      "execution_count": null,
      "outputs": []
    },
    {
      "cell_type": "code",
      "source": [
        "# addition\n",
        "\n",
        "# add the number 5 to each element in x_list\n",
        "\n",
        "\n",
        "# now, add 5 to each element in x_array\n"
      ],
      "metadata": {
        "id": "UGX2IxzJHJUI"
      },
      "execution_count": 6,
      "outputs": []
    },
    {
      "cell_type": "markdown",
      "source": [
        "### Calculate distance\n",
        "$$\n",
        "d = \\sqrt{\\sum_{i=1}^{n} (p_i - q_i)^2}\n",
        "$$"
      ],
      "metadata": {
        "id": "m6ccf_dkHN2V"
      }
    },
    {
      "cell_type": "code",
      "source": [
        "p = np.array([1, 2, 3, 4, 5, 6])\n",
        "q = np.array([10, 9, 8, 4, 2, 2])"
      ],
      "metadata": {
        "id": "A1_c176QHPUG"
      },
      "execution_count": 38,
      "outputs": []
    },
    {
      "cell_type": "code",
      "source": [
        "# get difference between p and q\n"
      ],
      "metadata": {
        "id": "rLa9H_diH1Cu"
      },
      "execution_count": 49,
      "outputs": []
    },
    {
      "cell_type": "code",
      "source": [
        "# square those differences\n"
      ],
      "metadata": {
        "id": "RahSo4wwH3py"
      },
      "execution_count": 48,
      "outputs": []
    },
    {
      "cell_type": "code",
      "source": [
        "# take the sum\n"
      ],
      "metadata": {
        "id": "bucFtvz0H70Y"
      },
      "execution_count": 51,
      "outputs": []
    },
    {
      "cell_type": "code",
      "source": [
        "# take the square root\n"
      ],
      "metadata": {
        "id": "I7gsW7cXIYzI"
      },
      "execution_count": 54,
      "outputs": []
    },
    {
      "cell_type": "code",
      "source": [
        "# in reality, use the easier way - np.linalg.norm\n"
      ],
      "metadata": {
        "id": "UlxVbD7UH_v6"
      },
      "execution_count": 55,
      "outputs": []
    },
    {
      "cell_type": "markdown",
      "source": [
        "### Random numbers"
      ],
      "metadata": {
        "id": "mGhY39QXIo7F"
      }
    },
    {
      "cell_type": "code",
      "source": [
        "# normal distribution, loc, scale, size\n",
        "\n"
      ],
      "metadata": {
        "id": "rTCi0p8WIp-d"
      },
      "execution_count": null,
      "outputs": []
    },
    {
      "cell_type": "code",
      "source": [
        "# uniform distribution, low, high, size\n",
        "\n"
      ],
      "metadata": {
        "id": "_S1ZargOJJpO"
      },
      "execution_count": null,
      "outputs": []
    },
    {
      "cell_type": "code",
      "source": [
        "# choice\n",
        "\n",
        "names = [\"Jim\", \"Mike\", \"Rose\", \"Peter\", \"Polly\"]\n",
        "\n"
      ],
      "metadata": {
        "id": "4FkBZXgMJMbw"
      },
      "execution_count": 58,
      "outputs": []
    },
    {
      "cell_type": "code",
      "source": [
        "# choice with replacement\n",
        "letters = [\"A\", \"B\", \"C\", \"D\", \"F\"]\n"
      ],
      "metadata": {
        "id": "5Ts1xCbjJc3L"
      },
      "execution_count": 57,
      "outputs": []
    },
    {
      "cell_type": "code",
      "source": [
        "# seed\n",
        "\n"
      ],
      "metadata": {
        "id": "wbCWCQAbJ00V"
      },
      "execution_count": null,
      "outputs": []
    }
  ]
}