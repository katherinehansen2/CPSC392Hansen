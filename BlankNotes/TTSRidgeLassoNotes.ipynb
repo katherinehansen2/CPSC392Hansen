{
  "nbformat": 4,
  "nbformat_minor": 0,
  "metadata": {
    "colab": {
      "provenance": []
    },
    "kernelspec": {
      "name": "python3",
      "display_name": "Python 3"
    },
    "language_info": {
      "name": "python"
    }
  },
  "cells": [
    {
      "cell_type": "code",
      "execution_count": 1,
      "metadata": {
        "id": "MbJfFWcIVYaV"
      },
      "outputs": [],
      "source": [
        "import warnings\n",
        "warnings.filterwarnings('ignore')\n",
        "\n",
        "# data imports\n",
        "import pandas as pd\n",
        "import numpy as np\n",
        "from plotnine import *\n",
        "\n",
        "# modeling imports\n",
        "from sklearn.linear_model import LinearRegression, LassoCV, RidgeCV # Linear Regression Model\n",
        "from sklearn.preprocessing import StandardScaler #Z-score variables\n",
        "from sklearn.metrics import mean_squared_error, r2_score, mean_absolute_percentage_error, mean_absolute_error #model evaluation\n",
        "from sklearn.model_selection import train_test_split, KFold, LeaveOneOut\n",
        "\n",
        "# pipeline imports\n",
        "from sklearn.pipeline import make_pipeline, Pipeline\n",
        "from sklearn.compose import make_column_transformer\n",
        "\n",
        "%matplotlib inline"
      ]
    },
    {
      "cell_type": "markdown",
      "source": [
        "# Train-test-split\n",
        "## Let's predict the danceability of Beyonce songs\n",
        "Load in Beyonce data"
      ],
      "metadata": {
        "id": "a7E2gPPTY0GB"
      }
    },
    {
      "cell_type": "code",
      "source": [
        "beyonce = pd.read_csv(\"https://raw.githubusercontent.com/katherinehansen2/CPSC392Hansen/main/data/Beyonce_data.csv\")\n",
        "beyonce.head()"
      ],
      "metadata": {
        "colab": {
          "base_uri": "https://localhost:8080/",
          "height": 360
        },
        "id": "gTBv9CfJY1QQ",
        "outputId": "0e892e37-75d8-437e-f9a7-fea657ef0538"
      },
      "execution_count": 2,
      "outputs": [
        {
          "output_type": "execute_result",
          "data": {
            "text/plain": [
              "   Unnamed: 0 artist_name  danceability   energy  key  loudness  mode  \\\n",
              "0           1     Beyoncé         0.386  0.28800    1   -18.513     1   \n",
              "1           2     Beyoncé         0.484  0.36300    5    -8.094     0   \n",
              "2           3     Beyoncé         0.537  0.24700    2   -17.750     1   \n",
              "3           4     Beyoncé         0.672  0.69600    4    -6.693     0   \n",
              "4           5     Beyoncé         0.000  0.00515    9   -22.612     0   \n",
              "\n",
              "   speechiness  acousticness  instrumentalness  liveness  valence  \\\n",
              "0       0.0602         0.533           0.01670    0.1410    0.399   \n",
              "1       0.0368         0.645           0.00000    0.1250    0.201   \n",
              "2       0.0793         0.199           0.00001    0.4230    0.170   \n",
              "3       0.1770         0.200           0.02750    0.0736    0.642   \n",
              "4       0.0000         0.524           0.95000    0.1140    0.000   \n",
              "\n",
              "   duration_ms                    track_name  \n",
              "0        43850    balance (mufasa interlude)  \n",
              "1       226479                        BIGGER  \n",
              "2        46566  the stars (mufasa interlude)  \n",
              "3       162353            FIND YOUR WAY BACK  \n",
              "4        13853   uncle scar (scar interlude)  "
            ],
            "text/html": [
              "\n",
              "  <div id=\"df-fa75681a-d5a3-4b8e-a991-fe380278d2ae\" class=\"colab-df-container\">\n",
              "    <div>\n",
              "<style scoped>\n",
              "    .dataframe tbody tr th:only-of-type {\n",
              "        vertical-align: middle;\n",
              "    }\n",
              "\n",
              "    .dataframe tbody tr th {\n",
              "        vertical-align: top;\n",
              "    }\n",
              "\n",
              "    .dataframe thead th {\n",
              "        text-align: right;\n",
              "    }\n",
              "</style>\n",
              "<table border=\"1\" class=\"dataframe\">\n",
              "  <thead>\n",
              "    <tr style=\"text-align: right;\">\n",
              "      <th></th>\n",
              "      <th>Unnamed: 0</th>\n",
              "      <th>artist_name</th>\n",
              "      <th>danceability</th>\n",
              "      <th>energy</th>\n",
              "      <th>key</th>\n",
              "      <th>loudness</th>\n",
              "      <th>mode</th>\n",
              "      <th>speechiness</th>\n",
              "      <th>acousticness</th>\n",
              "      <th>instrumentalness</th>\n",
              "      <th>liveness</th>\n",
              "      <th>valence</th>\n",
              "      <th>duration_ms</th>\n",
              "      <th>track_name</th>\n",
              "    </tr>\n",
              "  </thead>\n",
              "  <tbody>\n",
              "    <tr>\n",
              "      <th>0</th>\n",
              "      <td>1</td>\n",
              "      <td>Beyoncé</td>\n",
              "      <td>0.386</td>\n",
              "      <td>0.28800</td>\n",
              "      <td>1</td>\n",
              "      <td>-18.513</td>\n",
              "      <td>1</td>\n",
              "      <td>0.0602</td>\n",
              "      <td>0.533</td>\n",
              "      <td>0.01670</td>\n",
              "      <td>0.1410</td>\n",
              "      <td>0.399</td>\n",
              "      <td>43850</td>\n",
              "      <td>balance (mufasa interlude)</td>\n",
              "    </tr>\n",
              "    <tr>\n",
              "      <th>1</th>\n",
              "      <td>2</td>\n",
              "      <td>Beyoncé</td>\n",
              "      <td>0.484</td>\n",
              "      <td>0.36300</td>\n",
              "      <td>5</td>\n",
              "      <td>-8.094</td>\n",
              "      <td>0</td>\n",
              "      <td>0.0368</td>\n",
              "      <td>0.645</td>\n",
              "      <td>0.00000</td>\n",
              "      <td>0.1250</td>\n",
              "      <td>0.201</td>\n",
              "      <td>226479</td>\n",
              "      <td>BIGGER</td>\n",
              "    </tr>\n",
              "    <tr>\n",
              "      <th>2</th>\n",
              "      <td>3</td>\n",
              "      <td>Beyoncé</td>\n",
              "      <td>0.537</td>\n",
              "      <td>0.24700</td>\n",
              "      <td>2</td>\n",
              "      <td>-17.750</td>\n",
              "      <td>1</td>\n",
              "      <td>0.0793</td>\n",
              "      <td>0.199</td>\n",
              "      <td>0.00001</td>\n",
              "      <td>0.4230</td>\n",
              "      <td>0.170</td>\n",
              "      <td>46566</td>\n",
              "      <td>the stars (mufasa interlude)</td>\n",
              "    </tr>\n",
              "    <tr>\n",
              "      <th>3</th>\n",
              "      <td>4</td>\n",
              "      <td>Beyoncé</td>\n",
              "      <td>0.672</td>\n",
              "      <td>0.69600</td>\n",
              "      <td>4</td>\n",
              "      <td>-6.693</td>\n",
              "      <td>0</td>\n",
              "      <td>0.1770</td>\n",
              "      <td>0.200</td>\n",
              "      <td>0.02750</td>\n",
              "      <td>0.0736</td>\n",
              "      <td>0.642</td>\n",
              "      <td>162353</td>\n",
              "      <td>FIND YOUR WAY BACK</td>\n",
              "    </tr>\n",
              "    <tr>\n",
              "      <th>4</th>\n",
              "      <td>5</td>\n",
              "      <td>Beyoncé</td>\n",
              "      <td>0.000</td>\n",
              "      <td>0.00515</td>\n",
              "      <td>9</td>\n",
              "      <td>-22.612</td>\n",
              "      <td>0</td>\n",
              "      <td>0.0000</td>\n",
              "      <td>0.524</td>\n",
              "      <td>0.95000</td>\n",
              "      <td>0.1140</td>\n",
              "      <td>0.000</td>\n",
              "      <td>13853</td>\n",
              "      <td>uncle scar (scar interlude)</td>\n",
              "    </tr>\n",
              "  </tbody>\n",
              "</table>\n",
              "</div>\n",
              "    <div class=\"colab-df-buttons\">\n",
              "\n",
              "  <div class=\"colab-df-container\">\n",
              "    <button class=\"colab-df-convert\" onclick=\"convertToInteractive('df-fa75681a-d5a3-4b8e-a991-fe380278d2ae')\"\n",
              "            title=\"Convert this dataframe to an interactive table.\"\n",
              "            style=\"display:none;\">\n",
              "\n",
              "  <svg xmlns=\"http://www.w3.org/2000/svg\" height=\"24px\" viewBox=\"0 -960 960 960\">\n",
              "    <path d=\"M120-120v-720h720v720H120Zm60-500h600v-160H180v160Zm220 220h160v-160H400v160Zm0 220h160v-160H400v160ZM180-400h160v-160H180v160Zm440 0h160v-160H620v160ZM180-180h160v-160H180v160Zm440 0h160v-160H620v160Z\"/>\n",
              "  </svg>\n",
              "    </button>\n",
              "\n",
              "  <style>\n",
              "    .colab-df-container {\n",
              "      display:flex;\n",
              "      gap: 12px;\n",
              "    }\n",
              "\n",
              "    .colab-df-convert {\n",
              "      background-color: #E8F0FE;\n",
              "      border: none;\n",
              "      border-radius: 50%;\n",
              "      cursor: pointer;\n",
              "      display: none;\n",
              "      fill: #1967D2;\n",
              "      height: 32px;\n",
              "      padding: 0 0 0 0;\n",
              "      width: 32px;\n",
              "    }\n",
              "\n",
              "    .colab-df-convert:hover {\n",
              "      background-color: #E2EBFA;\n",
              "      box-shadow: 0px 1px 2px rgba(60, 64, 67, 0.3), 0px 1px 3px 1px rgba(60, 64, 67, 0.15);\n",
              "      fill: #174EA6;\n",
              "    }\n",
              "\n",
              "    .colab-df-buttons div {\n",
              "      margin-bottom: 4px;\n",
              "    }\n",
              "\n",
              "    [theme=dark] .colab-df-convert {\n",
              "      background-color: #3B4455;\n",
              "      fill: #D2E3FC;\n",
              "    }\n",
              "\n",
              "    [theme=dark] .colab-df-convert:hover {\n",
              "      background-color: #434B5C;\n",
              "      box-shadow: 0px 1px 3px 1px rgba(0, 0, 0, 0.15);\n",
              "      filter: drop-shadow(0px 1px 2px rgba(0, 0, 0, 0.3));\n",
              "      fill: #FFFFFF;\n",
              "    }\n",
              "  </style>\n",
              "\n",
              "    <script>\n",
              "      const buttonEl =\n",
              "        document.querySelector('#df-fa75681a-d5a3-4b8e-a991-fe380278d2ae button.colab-df-convert');\n",
              "      buttonEl.style.display =\n",
              "        google.colab.kernel.accessAllowed ? 'block' : 'none';\n",
              "\n",
              "      async function convertToInteractive(key) {\n",
              "        const element = document.querySelector('#df-fa75681a-d5a3-4b8e-a991-fe380278d2ae');\n",
              "        const dataTable =\n",
              "          await google.colab.kernel.invokeFunction('convertToInteractive',\n",
              "                                                    [key], {});\n",
              "        if (!dataTable) return;\n",
              "\n",
              "        const docLinkHtml = 'Like what you see? Visit the ' +\n",
              "          '<a target=\"_blank\" href=https://colab.research.google.com/notebooks/data_table.ipynb>data table notebook</a>'\n",
              "          + ' to learn more about interactive tables.';\n",
              "        element.innerHTML = '';\n",
              "        dataTable['output_type'] = 'display_data';\n",
              "        await google.colab.output.renderOutput(dataTable, element);\n",
              "        const docLink = document.createElement('div');\n",
              "        docLink.innerHTML = docLinkHtml;\n",
              "        element.appendChild(docLink);\n",
              "      }\n",
              "    </script>\n",
              "  </div>\n",
              "\n",
              "\n",
              "<div id=\"df-ad3ec8be-92e1-4519-acec-94045d8f324a\">\n",
              "  <button class=\"colab-df-quickchart\" onclick=\"quickchart('df-ad3ec8be-92e1-4519-acec-94045d8f324a')\"\n",
              "            title=\"Suggest charts\"\n",
              "            style=\"display:none;\">\n",
              "\n",
              "<svg xmlns=\"http://www.w3.org/2000/svg\" height=\"24px\"viewBox=\"0 0 24 24\"\n",
              "     width=\"24px\">\n",
              "    <g>\n",
              "        <path d=\"M19 3H5c-1.1 0-2 .9-2 2v14c0 1.1.9 2 2 2h14c1.1 0 2-.9 2-2V5c0-1.1-.9-2-2-2zM9 17H7v-7h2v7zm4 0h-2V7h2v10zm4 0h-2v-4h2v4z\"/>\n",
              "    </g>\n",
              "</svg>\n",
              "  </button>\n",
              "\n",
              "<style>\n",
              "  .colab-df-quickchart {\n",
              "      --bg-color: #E8F0FE;\n",
              "      --fill-color: #1967D2;\n",
              "      --hover-bg-color: #E2EBFA;\n",
              "      --hover-fill-color: #174EA6;\n",
              "      --disabled-fill-color: #AAA;\n",
              "      --disabled-bg-color: #DDD;\n",
              "  }\n",
              "\n",
              "  [theme=dark] .colab-df-quickchart {\n",
              "      --bg-color: #3B4455;\n",
              "      --fill-color: #D2E3FC;\n",
              "      --hover-bg-color: #434B5C;\n",
              "      --hover-fill-color: #FFFFFF;\n",
              "      --disabled-bg-color: #3B4455;\n",
              "      --disabled-fill-color: #666;\n",
              "  }\n",
              "\n",
              "  .colab-df-quickchart {\n",
              "    background-color: var(--bg-color);\n",
              "    border: none;\n",
              "    border-radius: 50%;\n",
              "    cursor: pointer;\n",
              "    display: none;\n",
              "    fill: var(--fill-color);\n",
              "    height: 32px;\n",
              "    padding: 0;\n",
              "    width: 32px;\n",
              "  }\n",
              "\n",
              "  .colab-df-quickchart:hover {\n",
              "    background-color: var(--hover-bg-color);\n",
              "    box-shadow: 0 1px 2px rgba(60, 64, 67, 0.3), 0 1px 3px 1px rgba(60, 64, 67, 0.15);\n",
              "    fill: var(--button-hover-fill-color);\n",
              "  }\n",
              "\n",
              "  .colab-df-quickchart-complete:disabled,\n",
              "  .colab-df-quickchart-complete:disabled:hover {\n",
              "    background-color: var(--disabled-bg-color);\n",
              "    fill: var(--disabled-fill-color);\n",
              "    box-shadow: none;\n",
              "  }\n",
              "\n",
              "  .colab-df-spinner {\n",
              "    border: 2px solid var(--fill-color);\n",
              "    border-color: transparent;\n",
              "    border-bottom-color: var(--fill-color);\n",
              "    animation:\n",
              "      spin 1s steps(1) infinite;\n",
              "  }\n",
              "\n",
              "  @keyframes spin {\n",
              "    0% {\n",
              "      border-color: transparent;\n",
              "      border-bottom-color: var(--fill-color);\n",
              "      border-left-color: var(--fill-color);\n",
              "    }\n",
              "    20% {\n",
              "      border-color: transparent;\n",
              "      border-left-color: var(--fill-color);\n",
              "      border-top-color: var(--fill-color);\n",
              "    }\n",
              "    30% {\n",
              "      border-color: transparent;\n",
              "      border-left-color: var(--fill-color);\n",
              "      border-top-color: var(--fill-color);\n",
              "      border-right-color: var(--fill-color);\n",
              "    }\n",
              "    40% {\n",
              "      border-color: transparent;\n",
              "      border-right-color: var(--fill-color);\n",
              "      border-top-color: var(--fill-color);\n",
              "    }\n",
              "    60% {\n",
              "      border-color: transparent;\n",
              "      border-right-color: var(--fill-color);\n",
              "    }\n",
              "    80% {\n",
              "      border-color: transparent;\n",
              "      border-right-color: var(--fill-color);\n",
              "      border-bottom-color: var(--fill-color);\n",
              "    }\n",
              "    90% {\n",
              "      border-color: transparent;\n",
              "      border-bottom-color: var(--fill-color);\n",
              "    }\n",
              "  }\n",
              "</style>\n",
              "\n",
              "  <script>\n",
              "    async function quickchart(key) {\n",
              "      const quickchartButtonEl =\n",
              "        document.querySelector('#' + key + ' button');\n",
              "      quickchartButtonEl.disabled = true;  // To prevent multiple clicks.\n",
              "      quickchartButtonEl.classList.add('colab-df-spinner');\n",
              "      try {\n",
              "        const charts = await google.colab.kernel.invokeFunction(\n",
              "            'suggestCharts', [key], {});\n",
              "      } catch (error) {\n",
              "        console.error('Error during call to suggestCharts:', error);\n",
              "      }\n",
              "      quickchartButtonEl.classList.remove('colab-df-spinner');\n",
              "      quickchartButtonEl.classList.add('colab-df-quickchart-complete');\n",
              "    }\n",
              "    (() => {\n",
              "      let quickchartButtonEl =\n",
              "        document.querySelector('#df-ad3ec8be-92e1-4519-acec-94045d8f324a button');\n",
              "      quickchartButtonEl.style.display =\n",
              "        google.colab.kernel.accessAllowed ? 'block' : 'none';\n",
              "    })();\n",
              "  </script>\n",
              "</div>\n",
              "\n",
              "    </div>\n",
              "  </div>\n"
            ],
            "application/vnd.google.colaboratory.intrinsic+json": {
              "type": "dataframe",
              "variable_name": "beyonce",
              "summary": "{\n  \"name\": \"beyonce\",\n  \"rows\": 474,\n  \"fields\": [\n    {\n      \"column\": \"Unnamed: 0\",\n      \"properties\": {\n        \"dtype\": \"number\",\n        \"std\": 136,\n        \"min\": 1,\n        \"max\": 474,\n        \"num_unique_values\": 474,\n        \"samples\": [\n          429,\n          441,\n          10\n        ],\n        \"semantic_type\": \"\",\n        \"description\": \"\"\n      }\n    },\n    {\n      \"column\": \"artist_name\",\n      \"properties\": {\n        \"dtype\": \"category\",\n        \"num_unique_values\": 1,\n        \"samples\": [\n          \"Beyonc\\u00e9\"\n        ],\n        \"semantic_type\": \"\",\n        \"description\": \"\"\n      }\n    },\n    {\n      \"column\": \"danceability\",\n      \"properties\": {\n        \"dtype\": \"number\",\n        \"std\": 0.1771130481975318,\n        \"min\": 0.0,\n        \"max\": 0.932,\n        \"num_unique_values\": 220,\n        \"samples\": [\n          0.377\n        ],\n        \"semantic_type\": \"\",\n        \"description\": \"\"\n      }\n    },\n    {\n      \"column\": \"energy\",\n      \"properties\": {\n        \"dtype\": \"number\",\n        \"std\": 0.20838060991727952,\n        \"min\": 0.00515,\n        \"max\": 0.994,\n        \"num_unique_values\": 217,\n        \"samples\": [\n          0.466\n        ],\n        \"semantic_type\": \"\",\n        \"description\": \"\"\n      }\n    },\n    {\n      \"column\": \"key\",\n      \"properties\": {\n        \"dtype\": \"number\",\n        \"std\": 3,\n        \"min\": 0,\n        \"max\": 11,\n        \"num_unique_values\": 12,\n        \"samples\": [\n          10\n        ],\n        \"semantic_type\": \"\",\n        \"description\": \"\"\n      }\n    },\n    {\n      \"column\": \"loudness\",\n      \"properties\": {\n        \"dtype\": \"number\",\n        \"std\": 3.5270920774404066,\n        \"min\": -27.631,\n        \"max\": -2.764,\n        \"num_unique_values\": 260,\n        \"samples\": [\n          -7.274\n        ],\n        \"semantic_type\": \"\",\n        \"description\": \"\"\n      }\n    },\n    {\n      \"column\": \"mode\",\n      \"properties\": {\n        \"dtype\": \"number\",\n        \"std\": 0,\n        \"min\": 0,\n        \"max\": 1,\n        \"num_unique_values\": 2,\n        \"samples\": [\n          0\n        ],\n        \"semantic_type\": \"\",\n        \"description\": \"\"\n      }\n    },\n    {\n      \"column\": \"speechiness\",\n      \"properties\": {\n        \"dtype\": \"number\",\n        \"std\": 0.1508207261698624,\n        \"min\": 0.0,\n        \"max\": 0.837,\n        \"num_unique_values\": 227,\n        \"samples\": [\n          0.204\n        ],\n        \"semantic_type\": \"\",\n        \"description\": \"\"\n      }\n    },\n    {\n      \"column\": \"acousticness\",\n      \"properties\": {\n        \"dtype\": \"number\",\n        \"std\": 0.24202861944505272,\n        \"min\": 6.63e-05,\n        \"max\": 0.947,\n        \"num_unique_values\": 248,\n        \"samples\": [\n          0.0209\n        ],\n        \"semantic_type\": \"\",\n        \"description\": \"\"\n      }\n    },\n    {\n      \"column\": \"instrumentalness\",\n      \"properties\": {\n        \"dtype\": \"number\",\n        \"std\": 0.10455971951585696,\n        \"min\": 0.0,\n        \"max\": 0.95,\n        \"num_unique_values\": 154,\n        \"samples\": [\n          0.636\n        ],\n        \"semantic_type\": \"\",\n        \"description\": \"\"\n      }\n    },\n    {\n      \"column\": \"liveness\",\n      \"properties\": {\n        \"dtype\": \"number\",\n        \"std\": 0.21777605293775273,\n        \"min\": 0.0162,\n        \"max\": 0.983,\n        \"num_unique_values\": 230,\n        \"samples\": [\n          0.133\n        ],\n        \"semantic_type\": \"\",\n        \"description\": \"\"\n      }\n    },\n    {\n      \"column\": \"valence\",\n      \"properties\": {\n        \"dtype\": \"number\",\n        \"std\": 0.22645701811573662,\n        \"min\": 0.0,\n        \"max\": 0.971,\n        \"num_unique_values\": 228,\n        \"samples\": [\n          0.542\n        ],\n        \"semantic_type\": \"\",\n        \"description\": \"\"\n      }\n    },\n    {\n      \"column\": \"duration_ms\",\n      \"properties\": {\n        \"dtype\": \"number\",\n        \"std\": 81039,\n        \"min\": 8619,\n        \"max\": 1187253,\n        \"num_unique_values\": 247,\n        \"samples\": [\n          237440\n        ],\n        \"semantic_type\": \"\",\n        \"description\": \"\"\n      }\n    },\n    {\n      \"column\": \"track_name\",\n      \"properties\": {\n        \"dtype\": \"category\",\n        \"num_unique_values\": 177,\n        \"samples\": [\n          \"remember (mufasa interlude)\"\n        ],\n        \"semantic_type\": \"\",\n        \"description\": \"\"\n      }\n    }\n  ]\n}"
            }
          },
          "metadata": {},
          "execution_count": 2
        }
      ]
    },
    {
      "cell_type": "markdown",
      "source": [
        "## Check for missing values"
      ],
      "metadata": {
        "id": "u5qsd-l7Y7Vs"
      }
    },
    {
      "cell_type": "code",
      "source": [
        "beyonce.isnull().sum()"
      ],
      "metadata": {
        "id": "-vBYNoE-Y6wf"
      },
      "execution_count": 3,
      "outputs": []
    },
    {
      "cell_type": "markdown",
      "source": [
        "## Split into X and y"
      ],
      "metadata": {
        "id": "dUjUt6WKZE05"
      }
    },
    {
      "cell_type": "code",
      "source": [
        "# select predictors\n",
        "predictors = [\"energy\", \"loudness\", \"speechiness\", \"acousticness\", \"instrumentalness\", \"liveness\", \"valence\"]\n",
        "\n",
        "X = beyonce[predictors]\n",
        "y = beyonce[\"danceability\"]"
      ],
      "metadata": {
        "id": "aPznXfgNZGVS"
      },
      "execution_count": 4,
      "outputs": []
    },
    {
      "cell_type": "markdown",
      "source": [
        "## Train test split"
      ],
      "metadata": {
        "id": "z9OjUOPaZbcO"
      }
    },
    {
      "cell_type": "code",
      "source": [
        "X_train, X_test, y_train, y_test = #"
      ],
      "metadata": {
        "id": "BQ-agLQPZdHl"
      },
      "execution_count": 7,
      "outputs": []
    },
    {
      "cell_type": "markdown",
      "source": [
        "## Z-Score"
      ],
      "metadata": {
        "id": "nCAcebghZhIA"
      }
    },
    {
      "cell_type": "code",
      "source": [
        "scaler = StandardScaler()\n",
        "\n",
        "X_train = pd.DataFrame(scaler.#, columns=X.columns) # z-score X Train\n",
        "X_test = pd.DataFrame(scaler.#, columns=X.columns) # z-score X test using same mu and sd as train"
      ],
      "metadata": {
        "id": "vDOePvxUZh6n"
      },
      "execution_count": 9,
      "outputs": []
    },
    {
      "cell_type": "markdown",
      "source": [
        "## Fit a LR Model"
      ],
      "metadata": {
        "id": "s6vui0oZZk7r"
      }
    },
    {
      "cell_type": "code",
      "source": [
        "lr = LinearRegression()\n",
        "\n",
        "lr.fit(X_train, y_train)"
      ],
      "metadata": {
        "id": "Vtxc3UkLZlkp"
      },
      "execution_count": 12,
      "outputs": []
    },
    {
      "cell_type": "code",
      "source": [
        "# predict for both train and test sets\n",
        "y_pred_train = lr.predict(X_train)\n",
        "y_pred_test = lr.predict(X_test)"
      ],
      "metadata": {
        "id": "jUsONZdEZtEB"
      },
      "execution_count": 11,
      "outputs": []
    },
    {
      "cell_type": "code",
      "source": [
        "# Assess\n",
        "\n",
        "print(\"Train MSE : \", mean_squared_error(y_train,y_pred_train))\n",
        "print(\"Train MAE : \", mean_absolute_error(y_train,y_pred_train))\n",
        "print(\"Train R2  : \", r2_score(y_train,y_pred_train))\n",
        "print()\n",
        "print(\"Test MSE  : \", mean_squared_error(y_test,y_pred_test))\n",
        "print(\"Test MAE  : \", mean_absolute_error(y_test,y_pred_test))\n",
        "print(\"Test R2   : \", r2_score(y_test,y_pred_test))"
      ],
      "metadata": {
        "id": "Viv0ty50Zuxc"
      },
      "execution_count": 14,
      "outputs": []
    },
    {
      "cell_type": "markdown",
      "source": [
        "## View Coefficients"
      ],
      "metadata": {
        "id": "RdNPqgVVbe0n"
      }
    },
    {
      "cell_type": "code",
      "source": [
        "intercept = lr.intercept_\n",
        "coefficients = lr.coef_\n",
        "\n",
        "# create DF of\n",
        "params = pd.DataFrame({\n",
        "    'Feature': ['Intercept'] + list(X_train.columns),\n",
        "    'Coefficient': [intercept] + list(coefficients)\n",
        "})\n",
        "params"
      ],
      "metadata": {
        "id": "Omof3W1_bgIv"
      },
      "execution_count": 16,
      "outputs": []
    },
    {
      "cell_type": "markdown",
      "source": [
        "# Ridge/Lasso"
      ],
      "metadata": {
        "id": "4_0bixzwajEu"
      }
    },
    {
      "cell_type": "code",
      "source": [
        "amazon = pd.read_csv(\"https://raw.githubusercontent.com/katherinehansen2/CPSC392Hansen/main/data/amazon-books.txt\", sep=\"\\t\")\n",
        "amazon.dropna(inplace = True)\n",
        "amazon.reset_index(inplace = True)\n",
        "amazon.head()"
      ],
      "metadata": {
        "colab": {
          "base_uri": "https://localhost:8080/",
          "height": 459
        },
        "id": "PiCC-dWLbt5F",
        "outputId": "495da641-7f8c-45eb-829d-ff8c13e93e8c"
      },
      "execution_count": 18,
      "outputs": [
        {
          "output_type": "execute_result",
          "data": {
            "text/plain": [
              "   index                                              Title           Author  \\\n",
              "0      0  1,001 Facts that Will Scare the S#*t Out of Yo...      Cary McNeal   \n",
              "1      1  21: Bringing Down the House - Movie Tie-In: Th...      Ben Mezrich   \n",
              "2      2       100 Best-Loved Poems (Dover Thrift Editions)            Smith   \n",
              "3      3            1421: The Year China Discovered America    Gavin Menzies   \n",
              "4      4    1493: Uncovering the New World Columbus Created  Charles C. Mann   \n",
              "\n",
              "   List Price  Amazon Price Hard/ Paper  NumPages           Publisher  \\\n",
              "0       12.95          5.18           P     304.0         Adams Media   \n",
              "1       15.00         10.20           P     273.0          Free Press   \n",
              "2        1.50          1.50           P      96.0  Dover Publications   \n",
              "3       15.99         10.87           P     672.0    Harper Perennial   \n",
              "4       30.50         16.77           P     720.0               Knopf   \n",
              "\n",
              "   Pub year     ISBN-10  Height  Width  Thick  Weight (oz)  \n",
              "0    2010.0  1605506249     7.8    5.5    0.8         11.2  \n",
              "1    2008.0  1416564195     8.4    5.5    0.7          7.2  \n",
              "2    1995.0   486285537     8.3    5.2    0.3          4.0  \n",
              "3    2008.0  0061564893     8.8    6.0    1.6         28.8  \n",
              "4    2011.0  0307265722     8.0    5.2    1.4         22.4  "
            ],
            "text/html": [
              "\n",
              "  <div id=\"df-30e68677-0c4e-42a1-8fe2-bb3e61eaf408\" class=\"colab-df-container\">\n",
              "    <div>\n",
              "<style scoped>\n",
              "    .dataframe tbody tr th:only-of-type {\n",
              "        vertical-align: middle;\n",
              "    }\n",
              "\n",
              "    .dataframe tbody tr th {\n",
              "        vertical-align: top;\n",
              "    }\n",
              "\n",
              "    .dataframe thead th {\n",
              "        text-align: right;\n",
              "    }\n",
              "</style>\n",
              "<table border=\"1\" class=\"dataframe\">\n",
              "  <thead>\n",
              "    <tr style=\"text-align: right;\">\n",
              "      <th></th>\n",
              "      <th>index</th>\n",
              "      <th>Title</th>\n",
              "      <th>Author</th>\n",
              "      <th>List Price</th>\n",
              "      <th>Amazon Price</th>\n",
              "      <th>Hard/ Paper</th>\n",
              "      <th>NumPages</th>\n",
              "      <th>Publisher</th>\n",
              "      <th>Pub year</th>\n",
              "      <th>ISBN-10</th>\n",
              "      <th>Height</th>\n",
              "      <th>Width</th>\n",
              "      <th>Thick</th>\n",
              "      <th>Weight (oz)</th>\n",
              "    </tr>\n",
              "  </thead>\n",
              "  <tbody>\n",
              "    <tr>\n",
              "      <th>0</th>\n",
              "      <td>0</td>\n",
              "      <td>1,001 Facts that Will Scare the S#*t Out of Yo...</td>\n",
              "      <td>Cary McNeal</td>\n",
              "      <td>12.95</td>\n",
              "      <td>5.18</td>\n",
              "      <td>P</td>\n",
              "      <td>304.0</td>\n",
              "      <td>Adams Media</td>\n",
              "      <td>2010.0</td>\n",
              "      <td>1605506249</td>\n",
              "      <td>7.8</td>\n",
              "      <td>5.5</td>\n",
              "      <td>0.8</td>\n",
              "      <td>11.2</td>\n",
              "    </tr>\n",
              "    <tr>\n",
              "      <th>1</th>\n",
              "      <td>1</td>\n",
              "      <td>21: Bringing Down the House - Movie Tie-In: Th...</td>\n",
              "      <td>Ben Mezrich</td>\n",
              "      <td>15.00</td>\n",
              "      <td>10.20</td>\n",
              "      <td>P</td>\n",
              "      <td>273.0</td>\n",
              "      <td>Free Press</td>\n",
              "      <td>2008.0</td>\n",
              "      <td>1416564195</td>\n",
              "      <td>8.4</td>\n",
              "      <td>5.5</td>\n",
              "      <td>0.7</td>\n",
              "      <td>7.2</td>\n",
              "    </tr>\n",
              "    <tr>\n",
              "      <th>2</th>\n",
              "      <td>2</td>\n",
              "      <td>100 Best-Loved Poems (Dover Thrift Editions)</td>\n",
              "      <td>Smith</td>\n",
              "      <td>1.50</td>\n",
              "      <td>1.50</td>\n",
              "      <td>P</td>\n",
              "      <td>96.0</td>\n",
              "      <td>Dover Publications</td>\n",
              "      <td>1995.0</td>\n",
              "      <td>486285537</td>\n",
              "      <td>8.3</td>\n",
              "      <td>5.2</td>\n",
              "      <td>0.3</td>\n",
              "      <td>4.0</td>\n",
              "    </tr>\n",
              "    <tr>\n",
              "      <th>3</th>\n",
              "      <td>3</td>\n",
              "      <td>1421: The Year China Discovered America</td>\n",
              "      <td>Gavin Menzies</td>\n",
              "      <td>15.99</td>\n",
              "      <td>10.87</td>\n",
              "      <td>P</td>\n",
              "      <td>672.0</td>\n",
              "      <td>Harper Perennial</td>\n",
              "      <td>2008.0</td>\n",
              "      <td>0061564893</td>\n",
              "      <td>8.8</td>\n",
              "      <td>6.0</td>\n",
              "      <td>1.6</td>\n",
              "      <td>28.8</td>\n",
              "    </tr>\n",
              "    <tr>\n",
              "      <th>4</th>\n",
              "      <td>4</td>\n",
              "      <td>1493: Uncovering the New World Columbus Created</td>\n",
              "      <td>Charles C. Mann</td>\n",
              "      <td>30.50</td>\n",
              "      <td>16.77</td>\n",
              "      <td>P</td>\n",
              "      <td>720.0</td>\n",
              "      <td>Knopf</td>\n",
              "      <td>2011.0</td>\n",
              "      <td>0307265722</td>\n",
              "      <td>8.0</td>\n",
              "      <td>5.2</td>\n",
              "      <td>1.4</td>\n",
              "      <td>22.4</td>\n",
              "    </tr>\n",
              "  </tbody>\n",
              "</table>\n",
              "</div>\n",
              "    <div class=\"colab-df-buttons\">\n",
              "\n",
              "  <div class=\"colab-df-container\">\n",
              "    <button class=\"colab-df-convert\" onclick=\"convertToInteractive('df-30e68677-0c4e-42a1-8fe2-bb3e61eaf408')\"\n",
              "            title=\"Convert this dataframe to an interactive table.\"\n",
              "            style=\"display:none;\">\n",
              "\n",
              "  <svg xmlns=\"http://www.w3.org/2000/svg\" height=\"24px\" viewBox=\"0 -960 960 960\">\n",
              "    <path d=\"M120-120v-720h720v720H120Zm60-500h600v-160H180v160Zm220 220h160v-160H400v160Zm0 220h160v-160H400v160ZM180-400h160v-160H180v160Zm440 0h160v-160H620v160ZM180-180h160v-160H180v160Zm440 0h160v-160H620v160Z\"/>\n",
              "  </svg>\n",
              "    </button>\n",
              "\n",
              "  <style>\n",
              "    .colab-df-container {\n",
              "      display:flex;\n",
              "      gap: 12px;\n",
              "    }\n",
              "\n",
              "    .colab-df-convert {\n",
              "      background-color: #E8F0FE;\n",
              "      border: none;\n",
              "      border-radius: 50%;\n",
              "      cursor: pointer;\n",
              "      display: none;\n",
              "      fill: #1967D2;\n",
              "      height: 32px;\n",
              "      padding: 0 0 0 0;\n",
              "      width: 32px;\n",
              "    }\n",
              "\n",
              "    .colab-df-convert:hover {\n",
              "      background-color: #E2EBFA;\n",
              "      box-shadow: 0px 1px 2px rgba(60, 64, 67, 0.3), 0px 1px 3px 1px rgba(60, 64, 67, 0.15);\n",
              "      fill: #174EA6;\n",
              "    }\n",
              "\n",
              "    .colab-df-buttons div {\n",
              "      margin-bottom: 4px;\n",
              "    }\n",
              "\n",
              "    [theme=dark] .colab-df-convert {\n",
              "      background-color: #3B4455;\n",
              "      fill: #D2E3FC;\n",
              "    }\n",
              "\n",
              "    [theme=dark] .colab-df-convert:hover {\n",
              "      background-color: #434B5C;\n",
              "      box-shadow: 0px 1px 3px 1px rgba(0, 0, 0, 0.15);\n",
              "      filter: drop-shadow(0px 1px 2px rgba(0, 0, 0, 0.3));\n",
              "      fill: #FFFFFF;\n",
              "    }\n",
              "  </style>\n",
              "\n",
              "    <script>\n",
              "      const buttonEl =\n",
              "        document.querySelector('#df-30e68677-0c4e-42a1-8fe2-bb3e61eaf408 button.colab-df-convert');\n",
              "      buttonEl.style.display =\n",
              "        google.colab.kernel.accessAllowed ? 'block' : 'none';\n",
              "\n",
              "      async function convertToInteractive(key) {\n",
              "        const element = document.querySelector('#df-30e68677-0c4e-42a1-8fe2-bb3e61eaf408');\n",
              "        const dataTable =\n",
              "          await google.colab.kernel.invokeFunction('convertToInteractive',\n",
              "                                                    [key], {});\n",
              "        if (!dataTable) return;\n",
              "\n",
              "        const docLinkHtml = 'Like what you see? Visit the ' +\n",
              "          '<a target=\"_blank\" href=https://colab.research.google.com/notebooks/data_table.ipynb>data table notebook</a>'\n",
              "          + ' to learn more about interactive tables.';\n",
              "        element.innerHTML = '';\n",
              "        dataTable['output_type'] = 'display_data';\n",
              "        await google.colab.output.renderOutput(dataTable, element);\n",
              "        const docLink = document.createElement('div');\n",
              "        docLink.innerHTML = docLinkHtml;\n",
              "        element.appendChild(docLink);\n",
              "      }\n",
              "    </script>\n",
              "  </div>\n",
              "\n",
              "\n",
              "<div id=\"df-bb0b0073-a47c-4005-b7c3-fb58e1f572d0\">\n",
              "  <button class=\"colab-df-quickchart\" onclick=\"quickchart('df-bb0b0073-a47c-4005-b7c3-fb58e1f572d0')\"\n",
              "            title=\"Suggest charts\"\n",
              "            style=\"display:none;\">\n",
              "\n",
              "<svg xmlns=\"http://www.w3.org/2000/svg\" height=\"24px\"viewBox=\"0 0 24 24\"\n",
              "     width=\"24px\">\n",
              "    <g>\n",
              "        <path d=\"M19 3H5c-1.1 0-2 .9-2 2v14c0 1.1.9 2 2 2h14c1.1 0 2-.9 2-2V5c0-1.1-.9-2-2-2zM9 17H7v-7h2v7zm4 0h-2V7h2v10zm4 0h-2v-4h2v4z\"/>\n",
              "    </g>\n",
              "</svg>\n",
              "  </button>\n",
              "\n",
              "<style>\n",
              "  .colab-df-quickchart {\n",
              "      --bg-color: #E8F0FE;\n",
              "      --fill-color: #1967D2;\n",
              "      --hover-bg-color: #E2EBFA;\n",
              "      --hover-fill-color: #174EA6;\n",
              "      --disabled-fill-color: #AAA;\n",
              "      --disabled-bg-color: #DDD;\n",
              "  }\n",
              "\n",
              "  [theme=dark] .colab-df-quickchart {\n",
              "      --bg-color: #3B4455;\n",
              "      --fill-color: #D2E3FC;\n",
              "      --hover-bg-color: #434B5C;\n",
              "      --hover-fill-color: #FFFFFF;\n",
              "      --disabled-bg-color: #3B4455;\n",
              "      --disabled-fill-color: #666;\n",
              "  }\n",
              "\n",
              "  .colab-df-quickchart {\n",
              "    background-color: var(--bg-color);\n",
              "    border: none;\n",
              "    border-radius: 50%;\n",
              "    cursor: pointer;\n",
              "    display: none;\n",
              "    fill: var(--fill-color);\n",
              "    height: 32px;\n",
              "    padding: 0;\n",
              "    width: 32px;\n",
              "  }\n",
              "\n",
              "  .colab-df-quickchart:hover {\n",
              "    background-color: var(--hover-bg-color);\n",
              "    box-shadow: 0 1px 2px rgba(60, 64, 67, 0.3), 0 1px 3px 1px rgba(60, 64, 67, 0.15);\n",
              "    fill: var(--button-hover-fill-color);\n",
              "  }\n",
              "\n",
              "  .colab-df-quickchart-complete:disabled,\n",
              "  .colab-df-quickchart-complete:disabled:hover {\n",
              "    background-color: var(--disabled-bg-color);\n",
              "    fill: var(--disabled-fill-color);\n",
              "    box-shadow: none;\n",
              "  }\n",
              "\n",
              "  .colab-df-spinner {\n",
              "    border: 2px solid var(--fill-color);\n",
              "    border-color: transparent;\n",
              "    border-bottom-color: var(--fill-color);\n",
              "    animation:\n",
              "      spin 1s steps(1) infinite;\n",
              "  }\n",
              "\n",
              "  @keyframes spin {\n",
              "    0% {\n",
              "      border-color: transparent;\n",
              "      border-bottom-color: var(--fill-color);\n",
              "      border-left-color: var(--fill-color);\n",
              "    }\n",
              "    20% {\n",
              "      border-color: transparent;\n",
              "      border-left-color: var(--fill-color);\n",
              "      border-top-color: var(--fill-color);\n",
              "    }\n",
              "    30% {\n",
              "      border-color: transparent;\n",
              "      border-left-color: var(--fill-color);\n",
              "      border-top-color: var(--fill-color);\n",
              "      border-right-color: var(--fill-color);\n",
              "    }\n",
              "    40% {\n",
              "      border-color: transparent;\n",
              "      border-right-color: var(--fill-color);\n",
              "      border-top-color: var(--fill-color);\n",
              "    }\n",
              "    60% {\n",
              "      border-color: transparent;\n",
              "      border-right-color: var(--fill-color);\n",
              "    }\n",
              "    80% {\n",
              "      border-color: transparent;\n",
              "      border-right-color: var(--fill-color);\n",
              "      border-bottom-color: var(--fill-color);\n",
              "    }\n",
              "    90% {\n",
              "      border-color: transparent;\n",
              "      border-bottom-color: var(--fill-color);\n",
              "    }\n",
              "  }\n",
              "</style>\n",
              "\n",
              "  <script>\n",
              "    async function quickchart(key) {\n",
              "      const quickchartButtonEl =\n",
              "        document.querySelector('#' + key + ' button');\n",
              "      quickchartButtonEl.disabled = true;  // To prevent multiple clicks.\n",
              "      quickchartButtonEl.classList.add('colab-df-spinner');\n",
              "      try {\n",
              "        const charts = await google.colab.kernel.invokeFunction(\n",
              "            'suggestCharts', [key], {});\n",
              "      } catch (error) {\n",
              "        console.error('Error during call to suggestCharts:', error);\n",
              "      }\n",
              "      quickchartButtonEl.classList.remove('colab-df-spinner');\n",
              "      quickchartButtonEl.classList.add('colab-df-quickchart-complete');\n",
              "    }\n",
              "    (() => {\n",
              "      let quickchartButtonEl =\n",
              "        document.querySelector('#df-bb0b0073-a47c-4005-b7c3-fb58e1f572d0 button');\n",
              "      quickchartButtonEl.style.display =\n",
              "        google.colab.kernel.accessAllowed ? 'block' : 'none';\n",
              "    })();\n",
              "  </script>\n",
              "</div>\n",
              "\n",
              "    </div>\n",
              "  </div>\n"
            ],
            "application/vnd.google.colaboratory.intrinsic+json": {
              "type": "dataframe",
              "variable_name": "amazon",
              "summary": "{\n  \"name\": \"amazon\",\n  \"rows\": 310,\n  \"fields\": [\n    {\n      \"column\": \"index\",\n      \"properties\": {\n        \"dtype\": \"number\",\n        \"std\": 94,\n        \"min\": 0,\n        \"max\": 324,\n        \"num_unique_values\": 310,\n        \"samples\": [\n          304,\n          10,\n          58\n        ],\n        \"semantic_type\": \"\",\n        \"description\": \"\"\n      }\n    },\n    {\n      \"column\": \"Title\",\n      \"properties\": {\n        \"dtype\": \"string\",\n        \"num_unique_values\": 300,\n        \"samples\": [\n          \"The Cloister Walk\",\n          \"The Sound of the Mountain\",\n          \"Population Decline and Aging in Japan\"\n        ],\n        \"semantic_type\": \"\",\n        \"description\": \"\"\n      }\n    },\n    {\n      \"column\": \"Author\",\n      \"properties\": {\n        \"dtype\": \"string\",\n        \"num_unique_values\": 243,\n        \"samples\": [\n          \"Twain\",\n          \"Dickens\",\n          \"James Patterson & Maxine Paetro\"\n        ],\n        \"semantic_type\": \"\",\n        \"description\": \"\"\n      }\n    },\n    {\n      \"column\": \"List Price\",\n      \"properties\": {\n        \"dtype\": \"number\",\n        \"std\": 13.28725545521352,\n        \"min\": 1.5,\n        \"max\": 139.95,\n        \"num_unique_values\": 93,\n        \"samples\": [\n          48.2,\n          29.5,\n          8.95\n        ],\n        \"semantic_type\": \"\",\n        \"description\": \"\"\n      }\n    },\n    {\n      \"column\": \"Amazon Price\",\n      \"properties\": {\n        \"dtype\": \"number\",\n        \"std\": 11.578858703276664,\n        \"min\": 0.77,\n        \"max\": 139.95,\n        \"num_unique_values\": 197,\n        \"samples\": [\n          8.04,\n          8.07,\n          5.87\n        ],\n        \"semantic_type\": \"\",\n        \"description\": \"\"\n      }\n    },\n    {\n      \"column\": \"Hard/ Paper\",\n      \"properties\": {\n        \"dtype\": \"category\",\n        \"num_unique_values\": 2,\n        \"samples\": [\n          \"H\",\n          \"P\"\n        ],\n        \"semantic_type\": \"\",\n        \"description\": \"\"\n      }\n    },\n    {\n      \"column\": \"NumPages\",\n      \"properties\": {\n        \"dtype\": \"number\",\n        \"std\": 159.01771330711014,\n        \"min\": 24.0,\n        \"max\": 896.0,\n        \"num_unique_values\": 106,\n        \"samples\": [\n          546.0,\n          384.0\n        ],\n        \"semantic_type\": \"\",\n        \"description\": \"\"\n      }\n    },\n    {\n      \"column\": \"Publisher\",\n      \"properties\": {\n        \"dtype\": \"category\",\n        \"num_unique_values\": 153,\n        \"samples\": [\n          \"W. W. Norton & Company\",\n          \"Houghton Mifflin Books for Children\"\n        ],\n        \"semantic_type\": \"\",\n        \"description\": \"\"\n      }\n    },\n    {\n      \"column\": \"Pub year\",\n      \"properties\": {\n        \"dtype\": \"number\",\n        \"std\": 10.732796074528245,\n        \"min\": 1936.0,\n        \"max\": 2011.0,\n        \"num_unique_values\": 37,\n        \"samples\": [\n          2006.0,\n          1990.0\n        ],\n        \"semantic_type\": \"\",\n        \"description\": \"\"\n      }\n    },\n    {\n      \"column\": \"ISBN-10\",\n      \"properties\": {\n        \"dtype\": \"string\",\n        \"num_unique_values\": 309,\n        \"samples\": [\n          \"039393361X\",\n          \"140003065X\"\n        ],\n        \"semantic_type\": \"\",\n        \"description\": \"\"\n      }\n    },\n    {\n      \"column\": \"Height\",\n      \"properties\": {\n        \"dtype\": \"number\",\n        \"std\": 0.8688844718909796,\n        \"min\": 5.1,\n        \"max\": 12.1,\n        \"num_unique_values\": 44,\n        \"samples\": [\n          5.5,\n          5.2\n        ],\n        \"semantic_type\": \"\",\n        \"description\": \"\"\n      }\n    },\n    {\n      \"column\": \"Width\",\n      \"properties\": {\n        \"dtype\": \"number\",\n        \"std\": 0.8454161510906318,\n        \"min\": 4.1,\n        \"max\": 9.3,\n        \"num_unique_values\": 39,\n        \"samples\": [\n          7.2,\n          7.9\n        ],\n        \"semantic_type\": \"\",\n        \"description\": \"\"\n      }\n    },\n    {\n      \"column\": \"Thick\",\n      \"properties\": {\n        \"dtype\": \"number\",\n        \"std\": 0.35553414849256965,\n        \"min\": 0.1,\n        \"max\": 2.0,\n        \"num_unique_values\": 19,\n        \"samples\": [\n          0.8,\n          1.7\n        ],\n        \"semantic_type\": \"\",\n        \"description\": \"\"\n      }\n    },\n    {\n      \"column\": \"Weight (oz)\",\n      \"properties\": {\n        \"dtype\": \"number\",\n        \"std\": 6.6224589483200225,\n        \"min\": 1.2,\n        \"max\": 35.2,\n        \"num_unique_values\": 52,\n        \"samples\": [\n          4.2,\n          6.9\n        ],\n        \"semantic_type\": \"\",\n        \"description\": \"\"\n      }\n    }\n  ]\n}"
            }
          },
          "metadata": {},
          "execution_count": 18
        }
      ]
    },
    {
      "cell_type": "markdown",
      "source": [
        "## Separate into X and y"
      ],
      "metadata": {
        "id": "tCBkUaxRbbqh"
      }
    },
    {
      "cell_type": "code",
      "source": [
        "predictors = [\"List Price\", \"NumPages\", \"Weight (oz)\", \"Thick\", \"Height\", \"Width\"]\n",
        "\n",
        "X = amazon[predictors]\n",
        "y = amazon[\"Amazon Price\"]"
      ],
      "metadata": {
        "id": "fGZolkqGbdD-"
      },
      "execution_count": 19,
      "outputs": []
    },
    {
      "cell_type": "markdown",
      "source": [
        "## Train test split"
      ],
      "metadata": {
        "id": "w-yZP2Gzb5Pf"
      }
    },
    {
      "cell_type": "code",
      "source": [
        "X_train, X_test, y_train, y_test = train_test_split(X,y, test_size = 0.2, random_state = 7)"
      ],
      "metadata": {
        "id": "Z70Ol9U1b9ga"
      },
      "execution_count": 20,
      "outputs": []
    },
    {
      "cell_type": "markdown",
      "source": [
        "## Z-Score"
      ],
      "metadata": {
        "id": "1UhblKutcCF2"
      }
    },
    {
      "cell_type": "code",
      "source": [
        "scaler = StandardScaler()\n",
        "\n",
        "X_train = pd.DataFrame(scaler.fit_transform(X_train), columns=X.columns) # z-score X Train\n",
        "X_test = pd.DataFrame(scaler.transform(X_test), columns=X.columns) # z-score X test using same mu and sd as train"
      ],
      "metadata": {
        "id": "5_MhGrUhcDUY"
      },
      "execution_count": 21,
      "outputs": []
    },
    {
      "cell_type": "markdown",
      "source": [
        "## Fit a LASSO model"
      ],
      "metadata": {
        "id": "61G4nerKcJVV"
      }
    },
    {
      "cell_type": "code",
      "source": [
        "lasso = #\n",
        "\n",
        "lasso.fit(X_train, y_train)"
      ],
      "metadata": {
        "id": "WXCyAJLicKkL"
      },
      "execution_count": 23,
      "outputs": []
    },
    {
      "cell_type": "code",
      "source": [
        "# predict\n",
        "\n",
        "y_pred_train = lasso.predict(X_train)\n",
        "y_pred_test = lasso.predict(X_test)"
      ],
      "metadata": {
        "id": "x2G5IqDAcQuY"
      },
      "execution_count": 24,
      "outputs": []
    },
    {
      "cell_type": "code",
      "source": [
        "# Evaluate\n",
        "\n",
        "print(\"Train MSE : \", mean_squared_error(y_train,y_pred_train))\n",
        "print(\"Train MAE : \", mean_absolute_error(y_train,y_pred_train))\n",
        "print(\"Train R2  : \", r2_score(y_train,y_pred_train))\n",
        "print()\n",
        "print(\"Test MSE  : \", mean_squared_error(y_test,y_pred_test))\n",
        "print(\"Test MAE  : \", mean_absolute_error(y_test,y_pred_test))\n",
        "print(\"Test R2   : \", r2_score(y_test,y_pred_test))"
      ],
      "metadata": {
        "id": "UCAcRCIDcUpW"
      },
      "execution_count": 26,
      "outputs": []
    },
    {
      "cell_type": "markdown",
      "source": [
        "## Checkout the coefficients"
      ],
      "metadata": {
        "id": "fyf4RUIkcauv"
      }
    },
    {
      "cell_type": "code",
      "source": [
        "intercept = lasso.intercept_\n",
        "coefficients = lasso.coef_\n",
        "\n",
        "# create DF of\n",
        "params = pd.DataFrame({\n",
        "    'Feature': ['Intercept'] + list(X_train.columns),\n",
        "    'Coefficient': [intercept] + list(coefficients)\n",
        "})\n",
        "params"
      ],
      "metadata": {
        "id": "-2lWf-7WcaPj"
      },
      "execution_count": 28,
      "outputs": []
    },
    {
      "cell_type": "markdown",
      "source": [
        "## Now let's try with Ridge"
      ],
      "metadata": {
        "id": "ufJhj_3scowo"
      }
    },
    {
      "cell_type": "code",
      "source": [
        "ridge = #\n",
        "\n",
        "ridge.fit(X_train, y_train)"
      ],
      "metadata": {
        "id": "FxBL8zSDcqX6"
      },
      "execution_count": 30,
      "outputs": []
    },
    {
      "cell_type": "code",
      "source": [
        "# predict\n",
        "\n",
        "y_pred_train = lasso.predict(X_train)\n",
        "y_pred_test = lasso.predict(X_test)"
      ],
      "metadata": {
        "id": "OZSkqHTsctxU"
      },
      "execution_count": 31,
      "outputs": []
    },
    {
      "cell_type": "code",
      "source": [
        "# Evaluate\n",
        "\n",
        "print(\"Train MSE : \", mean_squared_error(y_train,y_pred_train))\n",
        "print(\"Train MAE : \", mean_absolute_error(y_train,y_pred_train))\n",
        "print(\"Train R2  : \", r2_score(y_train,y_pred_train))\n",
        "print()\n",
        "print(\"Test MSE  : \", mean_squared_error(y_test,y_pred_test))\n",
        "print(\"Test MAE  : \", mean_absolute_error(y_test,y_pred_test))\n",
        "print(\"Test R2   : \", r2_score(y_test,y_pred_test))"
      ],
      "metadata": {
        "id": "Zc_6DbBpcxjB"
      },
      "execution_count": 33,
      "outputs": []
    },
    {
      "cell_type": "markdown",
      "source": [
        "## Checkout the coefficients"
      ],
      "metadata": {
        "id": "LGznS5oUc6uv"
      }
    },
    {
      "cell_type": "code",
      "source": [
        "intercept = ridge.intercept_\n",
        "coefficients = ridge.coef_\n",
        "\n",
        "# create DF of\n",
        "params = pd.DataFrame({\n",
        "    'Feature': ['Intercept'] + list(X_train.columns),\n",
        "    'Coefficient': [intercept] + list(coefficients)\n",
        "})\n",
        "params"
      ],
      "metadata": {
        "id": "ihuU69b9c8SS"
      },
      "execution_count": 35,
      "outputs": []
    }
  ]
}