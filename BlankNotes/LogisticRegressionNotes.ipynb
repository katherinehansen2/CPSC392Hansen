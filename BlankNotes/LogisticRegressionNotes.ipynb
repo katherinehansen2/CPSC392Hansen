{
  "nbformat": 4,
  "nbformat_minor": 0,
  "metadata": {
    "colab": {
      "provenance": []
    },
    "kernelspec": {
      "name": "python3",
      "display_name": "Python 3"
    },
    "language_info": {
      "name": "python"
    }
  },
  "cells": [
    {
      "cell_type": "code",
      "execution_count": 1,
      "metadata": {
        "id": "hs4pMZtATvcu"
      },
      "outputs": [],
      "source": [
        "import warnings\n",
        "warnings.filterwarnings('ignore')\n",
        "\n",
        "# data imports\n",
        "import pandas as pd\n",
        "import numpy as np\n",
        "from plotnine import *\n",
        "\n",
        "# modeling imports\n",
        "from sklearn.linear_model import LinearRegression, LassoCV, RidgeCV, LogisticRegression # Linear Regression Model\n",
        "from sklearn.preprocessing import StandardScaler, OneHotEncoder #Z-score variables\n",
        "from sklearn.metrics import mean_squared_error, r2_score, mean_absolute_percentage_error, mean_absolute_error, accuracy_score #model evaluation\n",
        "from sklearn.model_selection import train_test_split, KFold, LeaveOneOut\n",
        "\n",
        "%matplotlib inline"
      ]
    },
    {
      "cell_type": "code",
      "source": [
        "df = pd.read_csv(\"https://raw.githubusercontent.com/katherinehansen2/CPSC392Hansen/refs/heads/main/data/BreastCancer.csv\")\n",
        "df.head()"
      ],
      "metadata": {
        "id": "20Yf15lSUOoH"
      },
      "execution_count": 2,
      "outputs": []
    },
    {
      "cell_type": "code",
      "source": [
        "predictors = df.columns[df.columns.str.endswith(\"mean\")] # extract all relevant predictors\n",
        "\n",
        "X = df[predictors]\n",
        "y = df[\"diagnosis\"]\n",
        "\n",
        "# Train Test Split\n",
        "X_train, X_test, y_train, y_test = train_test_split(X,y, test_size = 0.2)\n",
        "\n",
        "# Build LogisticRegression Model\n",
        "\n",
        "lr =\n",
        "\n",
        "# fit\n",
        "\n",
        "\n",
        "\n",
        "# predict\n",
        "\n",
        "y_pred_train =\n",
        "y_pred_test =\n"
      ],
      "metadata": {
        "id": "h4t-L644UXLH"
      },
      "execution_count": 3,
      "outputs": []
    },
    {
      "cell_type": "code",
      "source": [
        "# assess\n",
        "\n",
        "print(\"Train Accuracy:\", )\n",
        "print(\"Test Accuracy:\", )"
      ],
      "metadata": {
        "id": "gCGRaNlBUz7o"
      },
      "execution_count": 4,
      "outputs": []
    }
  ]
}