{
  "nbformat": 4,
  "nbformat_minor": 0,
  "metadata": {
    "colab": {
      "provenance": []
    },
    "kernelspec": {
      "name": "python3",
      "display_name": "Python 3"
    },
    "language_info": {
      "name": "python"
    }
  },
  "cells": [
    {
      "cell_type": "markdown",
      "source": [
        "# Welcome to your first In-Class Activity (ICA)!"
      ],
      "metadata": {
        "id": "hm8KE9hcPBJu"
      }
    },
    {
      "cell_type": "markdown",
      "source": [
        "# Debugging practice"
      ],
      "metadata": {
        "id": "6Y64YzI4NjTz"
      }
    },
    {
      "cell_type": "code",
      "source": [
        "def squareMyNumber(n):\n",
        "    square = n*n\n",
        "\n",
        "# square your number\n",
        "squared = squareMyNumber(6)\n",
        "\n",
        "# add 5 to your squared number\n",
        "x = squared + 5"
      ],
      "metadata": {
        "colab": {
          "base_uri": "https://localhost:8080/",
          "height": 190
        },
        "id": "HEY-EimSNkqW",
        "outputId": "56746a12-9784-4433-a030-9b07bc3c9493"
      },
      "execution_count": 4,
      "outputs": [
        {
          "output_type": "error",
          "ename": "TypeError",
          "evalue": "unsupported operand type(s) for +: 'NoneType' and 'int'",
          "traceback": [
            "\u001b[0;31m---------------------------------------------------------------------------\u001b[0m",
            "\u001b[0;31mTypeError\u001b[0m                                 Traceback (most recent call last)",
            "\u001b[0;32m<ipython-input-4-9e4d0ff2f69f>\u001b[0m in \u001b[0;36m<cell line: 8>\u001b[0;34m()\u001b[0m\n\u001b[1;32m      6\u001b[0m \u001b[0;34m\u001b[0m\u001b[0m\n\u001b[1;32m      7\u001b[0m \u001b[0;31m# add 5 to your squared number\u001b[0m\u001b[0;34m\u001b[0m\u001b[0;34m\u001b[0m\u001b[0m\n\u001b[0;32m----> 8\u001b[0;31m \u001b[0mx\u001b[0m \u001b[0;34m=\u001b[0m \u001b[0msquared\u001b[0m \u001b[0;34m+\u001b[0m \u001b[0;36m5\u001b[0m\u001b[0;34m\u001b[0m\u001b[0;34m\u001b[0m\u001b[0m\n\u001b[0m",
            "\u001b[0;31mTypeError\u001b[0m: unsupported operand type(s) for +: 'NoneType' and 'int'"
          ]
        }
      ]
    },
    {
      "cell_type": "code",
      "source": [
        "myVariableNameIsSuperShortAndEasyToRead = \"lol jk\"\n",
        "\n",
        "for letter in myVaraibleNameIsSuperShortAndEasyToRead:\n",
        "    if letter == \"l\":\n",
        "        print(\"It's an l!!!\")"
      ],
      "metadata": {
        "colab": {
          "base_uri": "https://localhost:8080/",
          "height": 223
        },
        "id": "ai7sxjvFOKTJ",
        "outputId": "f6928b3d-47ae-4cf0-9c44-27359e25f573"
      },
      "execution_count": 5,
      "outputs": [
        {
          "output_type": "error",
          "ename": "NameError",
          "evalue": "name 'myVaraibleNameIsSuperShortAndEasyToRead' is not defined",
          "traceback": [
            "\u001b[0;31m---------------------------------------------------------------------------\u001b[0m",
            "\u001b[0;31mNameError\u001b[0m                                 Traceback (most recent call last)",
            "\u001b[0;32m<ipython-input-5-85395e3268b6>\u001b[0m in \u001b[0;36m<cell line: 3>\u001b[0;34m()\u001b[0m\n\u001b[1;32m      1\u001b[0m \u001b[0mmyVariableNameIsSuperShortAndEasyToRead\u001b[0m \u001b[0;34m=\u001b[0m \u001b[0;34m\"lol jk\"\u001b[0m\u001b[0;34m\u001b[0m\u001b[0;34m\u001b[0m\u001b[0m\n\u001b[1;32m      2\u001b[0m \u001b[0;34m\u001b[0m\u001b[0m\n\u001b[0;32m----> 3\u001b[0;31m \u001b[0;32mfor\u001b[0m \u001b[0mletter\u001b[0m \u001b[0;32min\u001b[0m \u001b[0mmyVaraibleNameIsSuperShortAndEasyToRead\u001b[0m\u001b[0;34m:\u001b[0m\u001b[0;34m\u001b[0m\u001b[0;34m\u001b[0m\u001b[0m\n\u001b[0m\u001b[1;32m      4\u001b[0m     \u001b[0;32mif\u001b[0m \u001b[0mletter\u001b[0m \u001b[0;34m==\u001b[0m \u001b[0;34m\"l\"\u001b[0m\u001b[0;34m:\u001b[0m\u001b[0;34m\u001b[0m\u001b[0;34m\u001b[0m\u001b[0m\n\u001b[1;32m      5\u001b[0m         \u001b[0mprint\u001b[0m\u001b[0;34m(\u001b[0m\u001b[0;34m\"It's an l!!!\"\u001b[0m\u001b[0;34m)\u001b[0m\u001b[0;34m\u001b[0m\u001b[0;34m\u001b[0m\u001b[0m\n",
            "\u001b[0;31mNameError\u001b[0m: name 'myVaraibleNameIsSuperShortAndEasyToRead' is not defined"
          ]
        }
      ]
    },
    {
      "cell_type": "code",
      "source": [
        "my_data_frame = \"https://github.com/katherinehansen2/CPSC392Hansen/blob/main/data/penguins.csv\"\n",
        "\n",
        "d = pd.DataFrame(my_data_frame)\n",
        "\n",
        "d.head()\n",
        "\n",
        "# hint, look at line 1,"
      ],
      "metadata": {
        "colab": {
          "base_uri": "https://localhost:8080/",
          "height": 372
        },
        "id": "jJftSONCOZZT",
        "outputId": "0180083a-82da-4318-dc8b-e78cf34d1a9e"
      },
      "execution_count": 8,
      "outputs": [
        {
          "output_type": "error",
          "ename": "ValueError",
          "evalue": "DataFrame constructor not properly called!",
          "traceback": [
            "\u001b[0;31m---------------------------------------------------------------------------\u001b[0m",
            "\u001b[0;31mValueError\u001b[0m                                Traceback (most recent call last)",
            "\u001b[0;32m<ipython-input-8-36d49032641d>\u001b[0m in \u001b[0;36m<cell line: 3>\u001b[0;34m()\u001b[0m\n\u001b[1;32m      1\u001b[0m \u001b[0mmy_data_frame\u001b[0m \u001b[0;34m=\u001b[0m \u001b[0;34m\"https://github.com/katherinehansen2/CPSC392Hansen/blob/main/data/penguins.csv\"\u001b[0m\u001b[0;34m\u001b[0m\u001b[0;34m\u001b[0m\u001b[0m\n\u001b[1;32m      2\u001b[0m \u001b[0;34m\u001b[0m\u001b[0m\n\u001b[0;32m----> 3\u001b[0;31m \u001b[0md\u001b[0m \u001b[0;34m=\u001b[0m \u001b[0mpd\u001b[0m\u001b[0;34m.\u001b[0m\u001b[0mDataFrame\u001b[0m\u001b[0;34m(\u001b[0m\u001b[0mmy_data_frame\u001b[0m\u001b[0;34m)\u001b[0m\u001b[0;34m\u001b[0m\u001b[0;34m\u001b[0m\u001b[0m\n\u001b[0m\u001b[1;32m      4\u001b[0m \u001b[0;34m\u001b[0m\u001b[0m\n\u001b[1;32m      5\u001b[0m \u001b[0md\u001b[0m\u001b[0;34m.\u001b[0m\u001b[0mhead\u001b[0m\u001b[0;34m(\u001b[0m\u001b[0;34m)\u001b[0m\u001b[0;34m\u001b[0m\u001b[0;34m\u001b[0m\u001b[0m\n",
            "\u001b[0;32m/usr/local/lib/python3.10/dist-packages/pandas/core/frame.py\u001b[0m in \u001b[0;36m__init__\u001b[0;34m(self, data, index, columns, dtype, copy)\u001b[0m\n\u001b[1;32m    839\u001b[0m         \u001b[0;32melse\u001b[0m\u001b[0;34m:\u001b[0m\u001b[0;34m\u001b[0m\u001b[0;34m\u001b[0m\u001b[0m\n\u001b[1;32m    840\u001b[0m             \u001b[0;32mif\u001b[0m \u001b[0mindex\u001b[0m \u001b[0;32mis\u001b[0m \u001b[0;32mNone\u001b[0m \u001b[0;32mor\u001b[0m \u001b[0mcolumns\u001b[0m \u001b[0;32mis\u001b[0m \u001b[0;32mNone\u001b[0m\u001b[0;34m:\u001b[0m\u001b[0;34m\u001b[0m\u001b[0;34m\u001b[0m\u001b[0m\n\u001b[0;32m--> 841\u001b[0;31m                 \u001b[0;32mraise\u001b[0m \u001b[0mValueError\u001b[0m\u001b[0;34m(\u001b[0m\u001b[0;34m\"DataFrame constructor not properly called!\"\u001b[0m\u001b[0;34m)\u001b[0m\u001b[0;34m\u001b[0m\u001b[0;34m\u001b[0m\u001b[0m\n\u001b[0m\u001b[1;32m    842\u001b[0m \u001b[0;34m\u001b[0m\u001b[0m\n\u001b[1;32m    843\u001b[0m             \u001b[0mindex\u001b[0m \u001b[0;34m=\u001b[0m \u001b[0mensure_index\u001b[0m\u001b[0;34m(\u001b[0m\u001b[0mindex\u001b[0m\u001b[0;34m)\u001b[0m\u001b[0;34m\u001b[0m\u001b[0;34m\u001b[0m\u001b[0m\n",
            "\u001b[0;31mValueError\u001b[0m: DataFrame constructor not properly called!"
          ]
        }
      ]
    },
    {
      "cell_type": "code",
      "source": [
        "letters = [\"A\", \"B\", \"C\", \"D\", \"F\"]\n",
        "\n",
        "print(\"Your grade options are: \")\n",
        "for letter in letters\n",
        "    print(letter)"
      ],
      "metadata": {
        "colab": {
          "base_uri": "https://localhost:8080/",
          "height": 124
        },
        "id": "vkBNpof_OmiG",
        "outputId": "de3ea234-5480-4732-ebb0-b3af167edce0"
      },
      "execution_count": 10,
      "outputs": [
        {
          "output_type": "error",
          "ename": "SyntaxError",
          "evalue": "expected ':' (<ipython-input-10-2a465e39c335>, line 4)",
          "traceback": [
            "\u001b[0;36m  File \u001b[0;32m\"<ipython-input-10-2a465e39c335>\"\u001b[0;36m, line \u001b[0;32m4\u001b[0m\n\u001b[0;31m    for letter in letters\u001b[0m\n\u001b[0m                         ^\u001b[0m\n\u001b[0;31mSyntaxError\u001b[0m\u001b[0;31m:\u001b[0m expected ':'\n"
          ]
        }
      ]
    },
    {
      "cell_type": "markdown",
      "source": [
        "# Python Lecture Review"
      ],
      "metadata": {
        "id": "SjiXTROVNlWZ"
      }
    },
    {
      "cell_type": "markdown",
      "source": [
        "Import necessary packages"
      ],
      "metadata": {
        "id": "EEo3mJBaM4ZJ"
      }
    },
    {
      "cell_type": "code",
      "source": [],
      "metadata": {
        "id": "bFtLGq8PM46I"
      },
      "execution_count": null,
      "outputs": []
    },
    {
      "cell_type": "markdown",
      "source": [
        "Go to the course GitHub page, find the iris.csv file, and load it into a dataframe"
      ],
      "metadata": {
        "id": "77UoTWsMLhzj"
      }
    },
    {
      "cell_type": "code",
      "source": [],
      "metadata": {
        "id": "fLW8NIRDLkd1"
      },
      "execution_count": null,
      "outputs": []
    },
    {
      "cell_type": "markdown",
      "source": [
        "Print out the first 10 rows of your df"
      ],
      "metadata": {
        "id": "U6eWmXWYLkob"
      }
    },
    {
      "cell_type": "code",
      "source": [],
      "metadata": {
        "id": "gwR62OjuLnZY"
      },
      "execution_count": null,
      "outputs": []
    },
    {
      "cell_type": "markdown",
      "source": [
        "Print out all of the column names"
      ],
      "metadata": {
        "id": "z3BmZ7JGLnhe"
      }
    },
    {
      "cell_type": "code",
      "source": [],
      "metadata": {
        "id": "p3l1w59VLqCW"
      },
      "execution_count": null,
      "outputs": []
    },
    {
      "cell_type": "markdown",
      "source": [
        "Loop through all of the column names"
      ],
      "metadata": {
        "id": "cmIX2U7fLqJW"
      }
    },
    {
      "cell_type": "code",
      "source": [],
      "metadata": {
        "id": "STcJ_aUWLr4-"
      },
      "execution_count": null,
      "outputs": []
    },
    {
      "cell_type": "markdown",
      "source": [
        "Grab the 10th row of your df"
      ],
      "metadata": {
        "id": "BUrFI_z8Lr-w"
      }
    },
    {
      "cell_type": "code",
      "source": [],
      "metadata": {
        "id": "EGQ2oplnLueq"
      },
      "execution_count": null,
      "outputs": []
    },
    {
      "cell_type": "markdown",
      "source": [
        "Find the average sepal width by species"
      ],
      "metadata": {
        "id": "i6JhHJXWLuyI"
      }
    },
    {
      "cell_type": "code",
      "source": [],
      "metadata": {
        "id": "qPhFC7YOLxOf"
      },
      "execution_count": null,
      "outputs": []
    },
    {
      "cell_type": "markdown",
      "source": [
        "Find the rows who have a petal length > 1.4"
      ],
      "metadata": {
        "id": "bptZ09_hLxeM"
      }
    },
    {
      "cell_type": "code",
      "source": [],
      "metadata": {
        "id": "dH-4TYbDL1-W"
      },
      "execution_count": null,
      "outputs": []
    },
    {
      "cell_type": "markdown",
      "source": [
        "Find the rows that have a petal width > 2. Store them in a df named wide_petals\n",
        "\n"
      ],
      "metadata": {
        "id": "W_AQV8QAL2Dx"
      }
    },
    {
      "cell_type": "code",
      "source": [],
      "metadata": {
        "id": "d2-svtSiL6j7"
      },
      "execution_count": null,
      "outputs": []
    },
    {
      "cell_type": "markdown",
      "source": [
        "Find the mean sepal length for all rows"
      ],
      "metadata": {
        "id": "W0jYXVOdL6qm"
      }
    },
    {
      "cell_type": "code",
      "source": [],
      "metadata": {
        "id": "cHqhfhr8MR_1"
      },
      "execution_count": null,
      "outputs": []
    },
    {
      "cell_type": "markdown",
      "source": [
        "Generate 10 random numbers between 1 and 10 (using numpy)"
      ],
      "metadata": {
        "id": "vRUAsN51MzKL"
      }
    },
    {
      "cell_type": "code",
      "source": [],
      "metadata": {
        "id": "dt_VnmvRM8aI"
      },
      "execution_count": null,
      "outputs": []
    },
    {
      "cell_type": "markdown",
      "source": [
        "Set a random seed. Then, generate 3 random numbers between 4 and 17. Run that code 3 times and ensure the numbers don't change."
      ],
      "metadata": {
        "id": "6DNYA60xM9-c"
      }
    },
    {
      "cell_type": "code",
      "source": [],
      "metadata": {
        "id": "2xRi7MvqNhQm"
      },
      "execution_count": null,
      "outputs": []
    }
  ]
}